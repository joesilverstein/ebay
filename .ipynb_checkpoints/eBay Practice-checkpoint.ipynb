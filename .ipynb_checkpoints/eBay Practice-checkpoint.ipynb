{
 "cells": [
  {
   "cell_type": "code",
   "execution_count": 1,
   "metadata": {
    "collapsed": true
   },
   "outputs": [],
   "source": [
    "# Given a sorted integer array and a number, find the start and end indexes of n in the array."
   ]
  },
  {
   "cell_type": "code",
   "execution_count": 6,
   "metadata": {
    "collapsed": true
   },
   "outputs": [],
   "source": [
    "array = [0,0,1,1,1,5,5,6,6,6,6,7,11]; n = 5"
   ]
  },
  {
   "cell_type": "code",
   "execution_count": 7,
   "metadata": {
    "collapsed": false
   },
   "outputs": [
    {
     "data": {
      "text/plain": [
       "list"
      ]
     },
     "execution_count": 7,
     "metadata": {},
     "output_type": "execute_result"
    }
   ],
   "source": [
    "type(array)"
   ]
  },
  {
   "cell_type": "code",
   "execution_count": 9,
   "metadata": {
    "collapsed": false
   },
   "outputs": [],
   "source": [
    "# O(n) version:\n",
    "def find_indices(array, n):\n",
    "    prev = None\n",
    "    for i in range(len(array)):\n",
    "        cur = array[i]\n",
    "        if cur == n and prev != n:\n",
    "            start = i\n",
    "        elif cur != n and prev == n:\n",
    "            end = i - 1\n",
    "        prev = cur\n",
    "    return [start, end]"
   ]
  },
  {
   "cell_type": "code",
   "execution_count": 12,
   "metadata": {
    "collapsed": false
   },
   "outputs": [
    {
     "data": {
      "text/plain": [
       "13"
      ]
     },
     "execution_count": 12,
     "metadata": {},
     "output_type": "execute_result"
    }
   ],
   "source": [
    "len(array)"
   ]
  },
  {
   "cell_type": "code",
   "execution_count": 14,
   "metadata": {
    "collapsed": false
   },
   "outputs": [],
   "source": [
    "# < O(n) version (binary search):\n",
    "\n",
    "def binary_search(array, value):\n",
    "    l = 0; r = len(array) - 1;\n",
    "    while l <= r:\n",
    "        mid = (l + r) // 2 # integer division\n",
    "        if array[mid] < value:\n",
    "            l = mid + 1\n",
    "        elif value < array[mid]:\n",
    "            r = mid - 1\n",
    "        else:\n",
    "            return mid\n",
    "    return None\n",
    "\n",
    "def find_indices(array, n):\n",
    "    index = binary_search(array, n)\n",
    "    \n",
    "    i = index - 1\n",
    "    while array[i] == n:\n",
    "        i = i - 1\n",
    "    start = i + 1\n",
    "    \n",
    "    i = index + 1\n",
    "    while array[i] == n:\n",
    "        i = i + 1\n",
    "    end = i - 1\n",
    "    \n",
    "    return [start, end]"
   ]
  },
  {
   "cell_type": "code",
   "execution_count": 15,
   "metadata": {
    "collapsed": false
   },
   "outputs": [
    {
     "data": {
      "text/plain": [
       "[5, 6]"
      ]
     },
     "execution_count": 15,
     "metadata": {},
     "output_type": "execute_result"
    }
   ],
   "source": [
    "find_indices(array, n)"
   ]
  },
  {
   "cell_type": "code",
   "execution_count": 16,
   "metadata": {
    "collapsed": true
   },
   "outputs": [],
   "source": [
    "# Given a file that contains many strings, how would you sort all strings in the file?  What is the time and space complexity?\n",
    "# in-place Quicksort: time complexity O(nlogn), space complexity O(logn)"
   ]
  },
  {
   "cell_type": "code",
   "execution_count": null,
   "metadata": {
    "collapsed": true
   },
   "outputs": [],
   "source": []
  }
 ],
 "metadata": {
  "kernelspec": {
   "display_name": "Python [conda root]",
   "language": "python",
   "name": "conda-root-py"
  },
  "language_info": {
   "codemirror_mode": {
    "name": "ipython",
    "version": 3
   },
   "file_extension": ".py",
   "mimetype": "text/x-python",
   "name": "python",
   "nbconvert_exporter": "python",
   "pygments_lexer": "ipython3",
   "version": "3.5.2"
  }
 },
 "nbformat": 4,
 "nbformat_minor": 1
}
